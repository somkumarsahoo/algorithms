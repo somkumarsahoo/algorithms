{
 "cells": [
  {
   "cell_type": "code",
   "execution_count": 9,
   "id": "a7755cdc",
   "metadata": {},
   "outputs": [],
   "source": [
    "def LCP(s1: str, s2: str)->str:\n",
    "    \n",
    "    com_pref = \"\"\n",
    "    str_len = min(len(s1), len(s2))\n",
    "    \n",
    "    for i in range(str_len):\n",
    "        \n",
    "        if s1[i] != s2[i]:\n",
    "            break;\n",
    "        \n",
    "        com_pref+= s1[i]\n",
    "        \n",
    "    return com_pref;\n",
    "            \n",
    "        "
   ]
  },
  {
   "cell_type": "code",
   "execution_count": 10,
   "id": "7ef8630b",
   "metadata": {},
   "outputs": [],
   "source": [
    "# print(LCP(\"aeroplane\", \"aero-space\"))"
   ]
  },
  {
   "cell_type": "code",
   "execution_count": 11,
   "id": "a8cd37e8",
   "metadata": {},
   "outputs": [],
   "source": [
    "# def LCPmulti(*args: str) -> str:\n",
    "#     if not args:\n",
    "#         return \"\"\n",
    "\n",
    "#     min_len = min(len(s) for s in args)\n",
    "#     com_pref = \"\"\n",
    "\n",
    "#     for i in range(min_len):\n",
    "#         char = args[0][i]\n",
    "#         if all(s[i] == char for s in args):\n",
    "#             com_pref += char\n",
    "#         else:\n",
    "#             break\n",
    "\n",
    "#     return com_pref"
   ]
  },
  {
   "cell_type": "code",
   "execution_count": 14,
   "id": "7fd2af8e",
   "metadata": {},
   "outputs": [],
   "source": [
    "def LCPmulti(*args: str) -> str:\n",
    "    if not args:\n",
    "        return \"\"\n",
    "\n",
    "    min_len = min(len(s) for s in args)\n",
    "    com_pref = \"\"\n",
    "\n",
    "    for i in range(min_len):\n",
    "        char = args[0][i]\n",
    "        if any(s[i] != char for s in args):\n",
    "            break\n",
    "        com_pref += char\n",
    "\n",
    "    return com_pref"
   ]
  },
  {
   "cell_type": "code",
   "execution_count": 15,
   "id": "ceb3b0bd",
   "metadata": {},
   "outputs": [
    {
     "name": "stdout",
     "output_type": "stream",
     "text": [
      "cart\n"
     ]
    }
   ],
   "source": [
    "print(LCPmulti(\"cartesian\", \"cart\", \"cartoon\" ))"
   ]
  },
  {
   "cell_type": "code",
   "execution_count": null,
   "id": "68fb8596",
   "metadata": {},
   "outputs": [],
   "source": []
  }
 ],
 "metadata": {
  "kernelspec": {
   "display_name": "Python 3 (ipykernel)",
   "language": "python",
   "name": "python3"
  },
  "language_info": {
   "codemirror_mode": {
    "name": "ipython",
    "version": 3
   },
   "file_extension": ".py",
   "mimetype": "text/x-python",
   "name": "python",
   "nbconvert_exporter": "python",
   "pygments_lexer": "ipython3",
   "version": "3.9.12"
  }
 },
 "nbformat": 4,
 "nbformat_minor": 5
}
