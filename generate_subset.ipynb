{
 "cells": [
  {
   "cell_type": "markdown",
   "id": "6ea5e7c3",
   "metadata": {},
   "source": [
    "#### Generate Subset"
   ]
  },
  {
   "cell_type": "code",
   "execution_count": 8,
   "id": "b46a8db5",
   "metadata": {},
   "outputs": [],
   "source": [
    "def generate_subset(nums:list[int]):\n",
    "    def backtrack_list(nums:list[int], currIdx: int, subsets:list[list[int]], currSubset:list[int]=[]):\n",
    "        \n",
    "        if currIdx == len(nums):\n",
    "            subsets.append(currSubset.copy())\n",
    "            return\n",
    "\n",
    "        # If we want to insert nums[currIdx] into currSubset\n",
    "        currSubset.append(nums[currIdx])                     \n",
    "        backtrack_list(nums,currIdx+1,subsets, currSubset)\n",
    "\n",
    "        # If we don't want to insert nums[currIdx] into currSubset\n",
    "        currSubset.pop()\n",
    "        backtrack_list(nums,currIdx+1,subsets, currSubset)\n",
    "        \n",
    "            \n",
    "    subsets = []  \n",
    "\n",
    "    backtrack_list(nums, 0, subsets)\n",
    "\n",
    "    return subsets"
   ]
  },
  {
   "cell_type": "code",
   "execution_count": 10,
   "id": "46fc60ea",
   "metadata": {},
   "outputs": [
    {
     "name": "stdout",
     "output_type": "stream",
     "text": [
      "[[1, 2, 3, 4, 3, 2, 1], [1, 2, 3, 4, 3, 2], [1, 2, 3, 4, 3, 1], [1, 2, 3, 4, 3], [1, 2, 3, 4, 2, 1], [1, 2, 3, 4, 2], [1, 2, 3, 4, 1], [1, 2, 3, 4], [1, 2, 3, 3, 2, 1], [1, 2, 3, 3, 2], [1, 2, 3, 3, 1], [1, 2, 3, 3], [1, 2, 3, 2, 1], [1, 2, 3, 2], [1, 2, 3, 1], [1, 2, 3], [1, 2, 4, 3, 2, 1], [1, 2, 4, 3, 2], [1, 2, 4, 3, 1], [1, 2, 4, 3], [1, 2, 4, 2, 1], [1, 2, 4, 2], [1, 2, 4, 1], [1, 2, 4], [1, 2, 3, 2, 1], [1, 2, 3, 2], [1, 2, 3, 1], [1, 2, 3], [1, 2, 2, 1], [1, 2, 2], [1, 2, 1], [1, 2], [1, 3, 4, 3, 2, 1], [1, 3, 4, 3, 2], [1, 3, 4, 3, 1], [1, 3, 4, 3], [1, 3, 4, 2, 1], [1, 3, 4, 2], [1, 3, 4, 1], [1, 3, 4], [1, 3, 3, 2, 1], [1, 3, 3, 2], [1, 3, 3, 1], [1, 3, 3], [1, 3, 2, 1], [1, 3, 2], [1, 3, 1], [1, 3], [1, 4, 3, 2, 1], [1, 4, 3, 2], [1, 4, 3, 1], [1, 4, 3], [1, 4, 2, 1], [1, 4, 2], [1, 4, 1], [1, 4], [1, 3, 2, 1], [1, 3, 2], [1, 3, 1], [1, 3], [1, 2, 1], [1, 2], [1, 1], [1], [2, 3, 4, 3, 2, 1], [2, 3, 4, 3, 2], [2, 3, 4, 3, 1], [2, 3, 4, 3], [2, 3, 4, 2, 1], [2, 3, 4, 2], [2, 3, 4, 1], [2, 3, 4], [2, 3, 3, 2, 1], [2, 3, 3, 2], [2, 3, 3, 1], [2, 3, 3], [2, 3, 2, 1], [2, 3, 2], [2, 3, 1], [2, 3], [2, 4, 3, 2, 1], [2, 4, 3, 2], [2, 4, 3, 1], [2, 4, 3], [2, 4, 2, 1], [2, 4, 2], [2, 4, 1], [2, 4], [2, 3, 2, 1], [2, 3, 2], [2, 3, 1], [2, 3], [2, 2, 1], [2, 2], [2, 1], [2], [3, 4, 3, 2, 1], [3, 4, 3, 2], [3, 4, 3, 1], [3, 4, 3], [3, 4, 2, 1], [3, 4, 2], [3, 4, 1], [3, 4], [3, 3, 2, 1], [3, 3, 2], [3, 3, 1], [3, 3], [3, 2, 1], [3, 2], [3, 1], [3], [4, 3, 2, 1], [4, 3, 2], [4, 3, 1], [4, 3], [4, 2, 1], [4, 2], [4, 1], [4], [3, 2, 1], [3, 2], [3, 1], [3], [2, 1], [2], [1], []]\n"
     ]
    }
   ],
   "source": [
    "print(generate_subset([1,2,3,4,3,2,1]))"
   ]
  },
  {
   "cell_type": "code",
   "execution_count": null,
   "id": "d08beb2d",
   "metadata": {},
   "outputs": [],
   "source": [
    "print(generate_subset([1,2,3,2,1]))"
   ]
  },
  {
   "cell_type": "code",
   "execution_count": null,
   "id": "a02c6cea",
   "metadata": {},
   "outputs": [],
   "source": []
  },
  {
   "cell_type": "code",
   "execution_count": null,
   "id": "d2a6ddf0",
   "metadata": {},
   "outputs": [],
   "source": []
  },
  {
   "cell_type": "code",
   "execution_count": null,
   "id": "92c536da",
   "metadata": {},
   "outputs": [],
   "source": []
  }
 ],
 "metadata": {
  "kernelspec": {
   "display_name": "Python 3 (ipykernel)",
   "language": "python",
   "name": "python3"
  },
  "language_info": {
   "codemirror_mode": {
    "name": "ipython",
    "version": 3
   },
   "file_extension": ".py",
   "mimetype": "text/x-python",
   "name": "python",
   "nbconvert_exporter": "python",
   "pygments_lexer": "ipython3",
   "version": "3.9.12"
  }
 },
 "nbformat": 4,
 "nbformat_minor": 5
}
