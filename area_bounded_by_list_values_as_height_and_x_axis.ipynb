{
 "cells": [
  {
   "cell_type": "markdown",
   "id": "dc55cd24",
   "metadata": {},
   "source": [
    "Question 1: Find the total area under the curve formed by plotting the values in a list as heights (y-axis) against their indices (x-axis), where consecutive points are connected by straight lines.\n",
    "\n",
    "Question 2: Find the pair of indices and values from a list, considering indices along the x-axis and values along the y-axis, that, when projected onto the x-axis, enclose the largest area.\n"
   ]
  },
  {
   "cell_type": "markdown",
   "id": "2c9d3d54",
   "metadata": {},
   "source": [
    "Question 1"
   ]
  },
  {
   "cell_type": "code",
   "execution_count": 15,
   "id": "c686e4a2",
   "metadata": {},
   "outputs": [],
   "source": [
    "list1 = [5,4,1,6,6,9,2]"
   ]
  },
  {
   "cell_type": "code",
   "execution_count": 16,
   "id": "d50064f5",
   "metadata": {},
   "outputs": [],
   "source": [
    "coordinates = []\n",
    "\n",
    "for i,j in enumerate(list1):\n",
    "    coordinates.append((i,j))"
   ]
  },
  {
   "cell_type": "code",
   "execution_count": 17,
   "id": "38e9ba49",
   "metadata": {
    "scrolled": true
   },
   "outputs": [
    {
     "name": "stdout",
     "output_type": "stream",
     "text": [
      "[(0, 5), (1, 4), (2, 1), (3, 6), (4, 6), (5, 9), (6, 2)]\n"
     ]
    }
   ],
   "source": [
    "print(coordinates)"
   ]
  },
  {
   "cell_type": "code",
   "execution_count": 21,
   "id": "7ee51523",
   "metadata": {},
   "outputs": [],
   "source": [
    "h = 1 # we are considering base of all the trapeziums along y-axis and heights along x-axis\n",
    "total_area = sum(h * (coordinates[i][1] + coordinates[i+1][1]) / 2 for i in range(len(coordinates)-1))"
   ]
  },
  {
   "cell_type": "code",
   "execution_count": 22,
   "id": "db0d7743",
   "metadata": {},
   "outputs": [
    {
     "name": "stdout",
     "output_type": "stream",
     "text": [
      "Total Area under curve 29.5\n"
     ]
    }
   ],
   "source": [
    " print(\"Total Area under curve\", total_area)"
   ]
  },
  {
   "cell_type": "markdown",
   "id": "0a848210",
   "metadata": {},
   "source": [
    "Queston 2"
   ]
  },
  {
   "cell_type": "code",
   "execution_count": 6,
   "id": "14acb7ad",
   "metadata": {},
   "outputs": [],
   "source": [
    "values = [5, 4, 1, 6, 6, 9, 2]\n",
    "\n",
    "max_pair = max([((i, x), (j, y)) for (i, x) in enumerate(values) for (j, y) in enumerate(values) if i < j],\n",
    "               key=lambda pair: (pair[1][1] + pair[0][1]) * (pair[1][0] - pair[0][0]) / 2)"
   ]
  },
  {
   "cell_type": "code",
   "execution_count": 7,
   "id": "6597d8a0",
   "metadata": {},
   "outputs": [
    {
     "data": {
      "text/plain": [
       "((0, 5), (5, 9))"
      ]
     },
     "execution_count": 7,
     "metadata": {},
     "output_type": "execute_result"
    }
   ],
   "source": [
    "max_pair"
   ]
  },
  {
   "cell_type": "code",
   "execution_count": null,
   "id": "1b29b55b",
   "metadata": {},
   "outputs": [],
   "source": []
  },
  {
   "cell_type": "code",
   "execution_count": 12,
   "id": "f3cacb4f",
   "metadata": {},
   "outputs": [],
   "source": [
    "values = [5, 4, 1, 6, 6, 9, 2]\n",
    "\n",
    "max_pair = max([((i, x), (j, y)) for (i, x) in enumerate(values) for (j, y) in enumerate(values) if i < j],\n",
    "               key=lambda pair: (pair[1][1] + pair[0][1]) * (pair[1][0] - pair[0][0]) / 2)"
   ]
  },
  {
   "cell_type": "code",
   "execution_count": 13,
   "id": "a98744e7",
   "metadata": {},
   "outputs": [
    {
     "data": {
      "text/plain": [
       "((0, 5), (5, 9))"
      ]
     },
     "execution_count": 13,
     "metadata": {},
     "output_type": "execute_result"
    }
   ],
   "source": [
    "max_pair"
   ]
  },
  {
   "cell_type": "code",
   "execution_count": null,
   "id": "7c403e33",
   "metadata": {},
   "outputs": [],
   "source": []
  }
 ],
 "metadata": {
  "kernelspec": {
   "display_name": "Python 3 (ipykernel)",
   "language": "python",
   "name": "python3"
  },
  "language_info": {
   "codemirror_mode": {
    "name": "ipython",
    "version": 3
   },
   "file_extension": ".py",
   "mimetype": "text/x-python",
   "name": "python",
   "nbconvert_exporter": "python",
   "pygments_lexer": "ipython3",
   "version": "3.9.12"
  }
 },
 "nbformat": 4,
 "nbformat_minor": 5
}
